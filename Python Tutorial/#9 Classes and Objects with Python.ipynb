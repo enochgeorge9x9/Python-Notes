{
 "cells": [
  {
   "cell_type": "code",
   "execution_count": 5,
   "metadata": {},
   "outputs": [],
   "source": [
    "class Robot:\n",
    "    def __init__(self, name, color, weight):\n",
    "        self.name=name\n",
    "        self.color=color\n",
    "        self.weight=weight\n",
    "        \n",
    "    def introduce_self(self):\n",
    "        print(\"My name is \" +self.name) #this is java\n",
    "        print(\"My color is \"+ self.color)"
   ]
  },
  {
   "cell_type": "code",
   "execution_count": 6,
   "metadata": {},
   "outputs": [],
   "source": [
    "#r1=Robot()\n",
    "#r1.name=\"Tom\"\n",
    "#r1.color=\"red\"\n",
    "#r1.weight=30\n",
    "\n",
    "#r2=Robot()\n",
    "#r2.name =\"Jerry\"\n",
    "#r2.color=\"blue\"\n",
    "#r2.weight=40\n",
    "\n",
    "r1=Robot(\"Tom\", \"red\", 30)\n",
    "r2=Robot(\"Jerry\", \"blue\", 40)"
   ]
  },
  {
   "cell_type": "code",
   "execution_count": 7,
   "metadata": {},
   "outputs": [
    {
     "name": "stdout",
     "output_type": "stream",
     "text": [
      "My name is Tom\n",
      "My color is red\n",
      "\n",
      "My name is Jerry\n",
      "My color is blue\n"
     ]
    }
   ],
   "source": [
    "r1.introduce_self()\n",
    "print(\"\")\n",
    "r2.introduce_self()"
   ]
  },
  {
   "cell_type": "code",
   "execution_count": null,
   "metadata": {},
   "outputs": [],
   "source": []
  }
 ],
 "metadata": {
  "kernelspec": {
   "display_name": "Python 3",
   "language": "python",
   "name": "python3"
  },
  "language_info": {
   "codemirror_mode": {
    "name": "ipython",
    "version": 3
   },
   "file_extension": ".py",
   "mimetype": "text/x-python",
   "name": "python",
   "nbconvert_exporter": "python",
   "pygments_lexer": "ipython3",
   "version": "3.7.6"
  }
 },
 "nbformat": 4,
 "nbformat_minor": 4
}
