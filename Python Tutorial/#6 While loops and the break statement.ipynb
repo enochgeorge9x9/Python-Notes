{
 "cells": [
  {
   "cell_type": "code",
   "execution_count": 1,
   "metadata": {},
   "outputs": [
    {
     "name": "stdout",
     "output_type": "stream",
     "text": [
      "10\n"
     ]
    }
   ],
   "source": [
    "#recap for loop \n",
    "total=0\n",
    "for b in range(1,5):\n",
    "    total += b\n",
    "print(total)"
   ]
  },
  {
   "cell_type": "code",
   "execution_count": 4,
   "metadata": {},
   "outputs": [
    {
     "name": "stdout",
     "output_type": "stream",
     "text": [
      "10\n"
     ]
    }
   ],
   "source": [
    "#we can do the same thing in while loop \n",
    "total2 = 0\n",
    "j=1\n",
    "while j<5:\n",
    "    total2 += j\n",
    "    j += 1\n",
    "print(total2)"
   ]
  },
  {
   "cell_type": "code",
   "execution_count": 8,
   "metadata": {},
   "outputs": [
    {
     "name": "stdout",
     "output_type": "stream",
     "text": [
      "17\n"
     ]
    }
   ],
   "source": [
    "#reason to use while loop instead of for loop like when you dont know how many loops it needed in a given time\n",
    "#example\n",
    "given_list = [5,4,4,3,1,-2,-3,-5]\n",
    "#finding the sum of only the positive numbers\n",
    "total3 = 0\n",
    "m=0\n",
    "while given_list[m]>0:\n",
    "    total3 += given_list[m]\n",
    "    m += 1\n",
    "print(total3)\n"
   ]
  },
  {
   "cell_type": "code",
   "execution_count": 12,
   "metadata": {},
   "outputs": [
    {
     "name": "stdout",
     "output_type": "stream",
     "text": [
      "17\n"
     ]
    }
   ],
   "source": [
    "given_list2 = [5,4,4,3,1,-2,-3,-5]\n",
    "#using for loop \n",
    "total = 0 \n",
    "for ab in given_list2:\n",
    "    if ab <= 0:\n",
    "        break\n",
    "    total += ab\n",
    "print(total)\n",
    "    "
   ]
  },
  {
   "cell_type": "code",
   "execution_count": 2,
   "metadata": {},
   "outputs": [
    {
     "name": "stdout",
     "output_type": "stream",
     "text": [
      "17\n"
     ]
    }
   ],
   "source": [
    "#break statment in while loop \n",
    "given_list2 = [5,4,4,3,1,-2,-3,-5]\n",
    "total5=0 \n",
    "i=0\n",
    "while True:\n",
    "    total5 += given_list2[i]\n",
    "    i += 1\n",
    "    if given_list2[i] <= 0:\n",
    "        break\n",
    "print(total5)"
   ]
  },
  {
   "cell_type": "code",
   "execution_count": 15,
   "metadata": {},
   "outputs": [
    {
     "name": "stdout",
     "output_type": "stream",
     "text": [
      "0\n"
     ]
    }
   ],
   "source": [
    "#excerise using while loop to sum up all the negative numbers \n",
    "given_list3=[7,5,4,4,3,1,-2,-3,-5,-7]\n",
    "total2= 0\n",
    "i=0\n",
    "while given_list3[i]<0:\n",
    "    total2 += given_list[i]\n",
    "    i += 1\n",
    "print(total2)\n"
   ]
  },
  {
   "cell_type": "code",
   "execution_count": 13,
   "metadata": {},
   "outputs": [
    {
     "name": "stdout",
     "output_type": "stream",
     "text": [
      "-17\n"
     ]
    }
   ],
   "source": [
    "#using for loop \n",
    "given_list4=[7,5,4,4,3,1,-2,-3,-5,-7]\n",
    "total3=0\n",
    "for i in given_list4:\n",
    "    if i<0:\n",
    "        total3 += i\n",
    "print(total3)"
   ]
  },
  {
   "cell_type": "code",
   "execution_count": null,
   "metadata": {},
   "outputs": [],
   "source": []
  }
 ],
 "metadata": {
  "kernelspec": {
   "display_name": "Python 3",
   "language": "python",
   "name": "python3"
  }
 },
 "nbformat": 4,
 "nbformat_minor": 4
}
