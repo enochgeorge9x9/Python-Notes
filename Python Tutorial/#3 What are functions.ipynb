{
 "cells": [
  {
   "cell_type": "code",
   "execution_count": 1,
   "metadata": {},
   "outputs": [
    {
     "name": "stdout",
     "output_type": "stream",
     "text": [
      "this is outside the function\n"
     ]
    }
   ],
   "source": [
    "# a collection of instructions\n",
    "# a collection of code\n",
    "#function can be reused overtime\n",
    "def function1():\n",
    "    print(\"ahhhh\")\n",
    "    print(\"ahhhhhhhhh\")\n",
    "print(\"this is outside the function\")"
   ]
  },
  {
   "cell_type": "code",
   "execution_count": 2,
   "metadata": {},
   "outputs": [
    {
     "name": "stdout",
     "output_type": "stream",
     "text": [
      "ahhhh\n",
      "ahhhhhhhhh\n"
     ]
    }
   ],
   "source": [
    "function1()"
   ]
  },
  {
   "cell_type": "code",
   "execution_count": 3,
   "metadata": {},
   "outputs": [
    {
     "name": "stdout",
     "output_type": "stream",
     "text": [
      "ahhhh\n",
      "ahhhhhhhhh\n",
      "ahhhh\n",
      "ahhhhhhhhh\n"
     ]
    }
   ],
   "source": [
    "function1()\n",
    "function1()"
   ]
  },
  {
   "cell_type": "code",
   "execution_count": 4,
   "metadata": {},
   "outputs": [],
   "source": [
    "# can be also mapping\n",
    "def function2(x):\n",
    "    return 2*x"
   ]
  },
  {
   "cell_type": "code",
   "execution_count": 5,
   "metadata": {},
   "outputs": [],
   "source": [
    "a=function2(5)"
   ]
  },
  {
   "cell_type": "code",
   "execution_count": 6,
   "metadata": {},
   "outputs": [
    {
     "name": "stdout",
     "output_type": "stream",
     "text": [
      "10\n"
     ]
    }
   ],
   "source": [
    "print(a)"
   ]
  },
  {
   "cell_type": "code",
   "execution_count": 7,
   "metadata": {},
   "outputs": [],
   "source": [
    "def function3(x,y):\n",
    "    return x+y"
   ]
  },
  {
   "cell_type": "code",
   "execution_count": 8,
   "metadata": {},
   "outputs": [
    {
     "name": "stdout",
     "output_type": "stream",
     "text": [
      "10\n"
     ]
    }
   ],
   "source": [
    "e=function3(5,5)\n",
    "print(e)"
   ]
  },
  {
   "cell_type": "code",
   "execution_count": 9,
   "metadata": {},
   "outputs": [],
   "source": [
    "def function4(x):\n",
    "    print(x)\n",
    "    print(\"still in this function\")\n",
    "    return 3*x"
   ]
  },
  {
   "cell_type": "code",
   "execution_count": 10,
   "metadata": {},
   "outputs": [
    {
     "name": "stdout",
     "output_type": "stream",
     "text": [
      "4\n",
      "still in this function\n",
      "12\n"
     ]
    }
   ],
   "source": [
    "f=function4(4)\n",
    "print(f)"
   ]
  },
  {
   "cell_type": "code",
   "execution_count": 11,
   "metadata": {},
   "outputs": [],
   "source": [
    "def function5(some_argument):\n",
    "    print(some_argument)\n",
    "    print(\"weee\")"
   ]
  },
  {
   "cell_type": "code",
   "execution_count": 14,
   "metadata": {},
   "outputs": [
    {
     "name": "stdout",
     "output_type": "stream",
     "text": [
      "4\n",
      "weee\n"
     ]
    }
   ],
   "source": [
    "function5(4)\n"
   ]
  },
  {
   "cell_type": "code",
   "execution_count": 15,
   "metadata": {},
   "outputs": [],
   "source": [
    "#BMI calculator\n",
    "name1= \"John\"\n",
    "height_m1=2\n",
    "weight_kg1=90\n",
    "\n",
    "name2=\"Mary\"\n",
    "height_m2=1.8\n",
    "weight_kg2= 70\n",
    "\n",
    "name3=\"Zac\"\n",
    "height_m3=2.5\n",
    "weight_kg3= 160\n",
    "\n"
   ]
  },
  {
   "cell_type": "code",
   "execution_count": 22,
   "metadata": {},
   "outputs": [],
   "source": [
    "def bmi_calculator(name,height_m,weight_kg):\n",
    "    bmi=weight_kg/(height_m**2)\n",
    "    print(\"bmi:\")\n",
    "    print(bmi)\n",
    "    if bmi<25:\n",
    "        return name+\" is not overweight\"\n",
    "    else:\n",
    "        return name+\" is overweight\""
   ]
  },
  {
   "cell_type": "code",
   "execution_count": 23,
   "metadata": {},
   "outputs": [
    {
     "name": "stdout",
     "output_type": "stream",
     "text": [
      "bmi:\n",
      "22.5\n",
      "bmi:\n",
      "21.604938271604937\n",
      "bmi:\n",
      "25.6\n"
     ]
    }
   ],
   "source": [
    "result1=bmi_calculator(name1, height_m1, weight_kg1)\n",
    "result2=bmi_calculator(name2, height_m2, weight_kg2)\n",
    "result3=bmi_calculator(name3, height_m3, weight_kg3)"
   ]
  },
  {
   "cell_type": "code",
   "execution_count": 24,
   "metadata": {},
   "outputs": [
    {
     "name": "stdout",
     "output_type": "stream",
     "text": [
      "John is not overweight\n",
      "MAry is not overweight\n",
      "Zac is overweight\n"
     ]
    }
   ],
   "source": [
    "print(result1)\n",
    "print(result2)\n",
    "print(result3)"
   ]
  },
  {
   "cell_type": "code",
   "execution_count": 41,
   "metadata": {},
   "outputs": [],
   "source": [
    "#Sample excersice\n",
    "#convert miles to km\n",
    "# formula --> km=1.6*miles\n",
    "#km=convert(miles)\n",
    "\n",
    "miles1=1\n",
    "miles2=2\n",
    "miles3=6"
   ]
  },
  {
   "cell_type": "code",
   "execution_count": 42,
   "metadata": {},
   "outputs": [],
   "source": [
    "def milestokm(mile):\n",
    "    return 1.6*mile\n",
    "    print(\"Converted Km to miles\")\n",
    "    print(km)"
   ]
  },
  {
   "cell_type": "code",
   "execution_count": 43,
   "metadata": {},
   "outputs": [],
   "source": [
    "result1=milestokm(miles1)\n",
    "result2=milestokm(miles2)\n",
    "result3=milestokm(miles3)"
   ]
  },
  {
   "cell_type": "code",
   "execution_count": 44,
   "metadata": {},
   "outputs": [
    {
     "name": "stdout",
     "output_type": "stream",
     "text": [
      "1.6\n",
      "3.2\n",
      "9.600000000000001\n"
     ]
    }
   ],
   "source": [
    "print(result1)\n",
    "print(result2)\n",
    "print(result3)"
   ]
  },
  {
   "cell_type": "code",
   "execution_count": null,
   "metadata": {},
   "outputs": [],
   "source": []
  },
  {
   "cell_type": "code",
   "execution_count": null,
   "metadata": {},
   "outputs": [],
   "source": []
  }
 ],
 "metadata": {
  "kernelspec": {
   "display_name": "Python 3",
   "language": "python",
   "name": "python3"
  },
  "language_info": {
   "codemirror_mode": {
    "name": "ipython",
    "version": 3
   },
   "file_extension": ".py",
   "mimetype": "text/x-python",
   "name": "python",
   "nbconvert_exporter": "python",
   "pygments_lexer": "ipython3",
   "version": "3.7.6"
  }
 },
 "nbformat": 4,
 "nbformat_minor": 4
}
